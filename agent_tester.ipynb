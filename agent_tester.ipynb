{
 "cells": [
  {
   "cell_type": "code",
   "execution_count": 29,
   "metadata": {},
   "outputs": [],
   "source": [
    "import dspy\n",
    "import os\n",
    "from sql_agent import GenerateSQL, execute_sql, RetrieveSchema"
   ]
  },
  {
   "cell_type": "code",
   "execution_count": 3,
   "metadata": {},
   "outputs": [],
   "source": [
    "lm = dspy.LM('groq/llama-3.3-70b-versatile', api_key=os.getenv('GROQ_API_KEY'))\n",
    "dspy.configure(lm=lm)"
   ]
  },
  {
   "cell_type": "code",
   "execution_count": 30,
   "metadata": {},
   "outputs": [],
   "source": [
    "sql_query_generator = dspy.ReAct(GenerateSQL, tools=[execute_sql])"
   ]
  },
  {
   "cell_type": "code",
   "execution_count": 31,
   "metadata": {},
   "outputs": [],
   "source": [
    "class GetterSignature(dspy.Signature):\n",
    "    \"\"\"Try to get product name and quantity from the user's message\n",
    "        If Product name or quantity is not provided, ask user to provide it\"\"\"\n",
    "    user_input: str = dspy.InputField(desc=\"user's message\")\n",
    "    product_name: str = dspy.OutputField(desc=\"Get Product Name from the user's message\")\n",
    "    quantity: int = dspy.OutputField(desc=\"Get Quantity from the user's message\")\n",
    "    details: bool = dspy.OutputField(desc=\"Say whether the product name and quantity is provided or not\")\n",
    "\n",
    "class SomeModule(dspy.Module):\n",
    "    def __init__(self):\n",
    "        super().__init__()\n",
    "        self.predict = dspy.ChainOfThought(GetterSignature)\n",
    "\n",
    "    def forward(self, user_input: str):\n",
    "        extracted = self.predict(user_input=user_input)\n",
    "        return f\"The quantity of {extracted.product_name} is {extracted.quantity}, {extracted.details}\"\n",
    "\n",
    "\n",
    "predictor = SomeModule()\n"
   ]
  },
  {
   "cell_type": "code",
   "execution_count": 32,
   "metadata": {},
   "outputs": [
    {
     "data": {
      "text/plain": [
       "\"The quantity of apples is 0, The product name is provided as 'apples', but the quantity is not provided. Please provide the quantity to complete the order.\""
      ]
     },
     "execution_count": 32,
     "metadata": {},
     "output_type": "execute_result"
    }
   ],
   "source": [
    "predictor(\"I want to buy apples\")"
   ]
  },
  {
   "cell_type": "code",
   "execution_count": null,
   "metadata": {},
   "outputs": [
    {
     "data": {
      "text/plain": [
       "'User intents to buy: False'"
      ]
     },
     "execution_count": 26,
     "metadata": {},
     "output_type": "execute_result"
    }
   ],
   "source": [
    "class BuySentiment(dspy.Signature):\n",
    "    \"\"\"Tell if user intents to buy anything or not\n",
    "        If user asks about price, quantity, etc, return False\n",
    "        Only return True if user asks about buying something\"\"\"\n",
    "    user_input: str = dspy.InputField(desc=\"user's message\")\n",
    "    buy_intent: bool = dspy.OutputField(desc=\"True if user intents to buy anything, False otherwise\")\n",
    "\n",
    "class BuyModule(dspy.Module):\n",
    "    def __init__(self):\n",
    "        super().__init__()\n",
    "        self.predict = dspy.ChainOfThought(BuySentiment)\n",
    "\n",
    "    def forward(self, user_input: str):\n",
    "        extracted = self.predict(user_input=user_input)\n",
    "        return f\"User intents to buy: {extracted.buy_intent}\"\n",
    "\n",
    "BUY_INTENT_PREDICTOR = BuyModule()"
   ]
  },
  {
   "cell_type": "code",
   "execution_count": null,
   "metadata": {},
   "outputs": [],
   "source": [
    "## CHATBOT CLASS\n",
    "class SQLChatbot(dspy.Module):\n",
    "    def __init__(self):\n",
    "        super().__init__()\n",
    "        self.history = []\n",
    "\n",
    "    def forward(self, user_input: str):\n",
    "        \"\"\"Handles user queries and maintains conversation history for better results\n",
    "           We will first check if user wants to buy something or just querying about the database\"\"\"\n",
    "\n",
    "        retrieve_schema = RetrieveSchema()\n",
    "        query_context = retrieve_schema(user_input)\n",
    "\n",
    "        response = sql_query_generator(question=user_input, context=query_context, history=self.history)\n",
    "\n",
    "        # Store conversation history\n",
    "        self.history.append(f\"User: {user_input}\")\n",
    "        self.history.append(f\"Bot: {response.answer}\")\n",
    "\n",
    "        return response.answer"
   ]
  }
 ],
 "metadata": {
  "kernelspec": {
   "display_name": "agentenv",
   "language": "python",
   "name": "python3"
  },
  "language_info": {
   "codemirror_mode": {
    "name": "ipython",
    "version": 3
   },
   "file_extension": ".py",
   "mimetype": "text/x-python",
   "name": "python",
   "nbconvert_exporter": "python",
   "pygments_lexer": "ipython3",
   "version": "3.12.9"
  }
 },
 "nbformat": 4,
 "nbformat_minor": 2
}
