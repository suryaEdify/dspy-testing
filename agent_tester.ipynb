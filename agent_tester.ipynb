{
 "cells": [
  {
   "cell_type": "code",
   "execution_count": 1,
   "metadata": {},
   "outputs": [
    {
     "name": "stderr",
     "output_type": "stream",
     "text": [
      "c:\\Users\\SuryaPrakashPalanive\\Desktop\\dspyChatAssistant\\agentenv\\Lib\\site-packages\\tqdm\\auto.py:21: TqdmWarning: IProgress not found. Please update jupyter and ipywidgets. See https://ipywidgets.readthedocs.io/en/stable/user_install.html\n",
      "  from .autonotebook import tqdm as notebook_tqdm\n"
     ]
    },
    {
     "data": {
      "text/plain": [
       "True"
      ]
     },
     "execution_count": 1,
     "metadata": {},
     "output_type": "execute_result"
    }
   ],
   "source": [
    "import chromadb\n",
    "import dspy\n",
    "from sqlalchemy import create_engine, text\n",
    "import os\n",
    "from dotenv import load_dotenv\n",
    "from train_set import train_data\n",
    "\n",
    "load_dotenv()"
   ]
  },
  {
   "cell_type": "code",
   "execution_count": 2,
   "metadata": {},
   "outputs": [],
   "source": [
    "lm = dspy.LM('groq/qwen-2.5-32b', api_key=os.getenv('GROQ_API_KEY'))\n",
    "dspy.configure(lm=lm)"
   ]
  },
  {
   "cell_type": "code",
   "execution_count": 3,
   "metadata": {},
   "outputs": [],
   "source": [
    "chroma_client = chromadb.PersistentClient(path=\"./chroma_db\")\n",
    "db_collection = chroma_client.get_collection(name=\"sql_schema\")"
   ]
  },
  {
   "cell_type": "code",
   "execution_count": 4,
   "metadata": {},
   "outputs": [],
   "source": [
    "def create_db_connection():\n",
    "    engine = create_engine(\"sqlite:///electrical_parts.db\", echo=True)\n",
    "    return engine.connect()\n",
    "\n",
    "def execute_sql(query: str):\n",
    "    \"\"\"Executes the SQL query in SQLite and fetches results.\"\"\"\n",
    "    try:\n",
    "        # validate_sql_query(query)\n",
    "        with create_db_connection() as conn:\n",
    "            result = conn.execute(text(query)).fetchall()\n",
    "        return result\n",
    "    except Exception as e:\n",
    "        return {\"error\": str(e), \"valid\": False}"
   ]
  },
  {
   "cell_type": "code",
   "execution_count": 5,
   "metadata": {},
   "outputs": [],
   "source": [
    "class RetrieveSchema(dspy.Module):\n",
    "    def forward(self, user_query: str):\n",
    "        \"\"\"Retrieves relevant schema details from ChromaDB.\"\"\"\n",
    "        table_results = db_collection.query(\n",
    "            query_texts=[user_query], n_results=3, where={\"type\": \"table\"}\n",
    "        )\n",
    "        tables = [doc[\"table_name\"] for doc in table_results.get(\"metadatas\", [])[0]]\n",
    "\n",
    "        column_results = db_collection.query(\n",
    "            query_texts=[user_query],\n",
    "            n_results=3,\n",
    "            where={\"$and\": [{\"type\": {\"$eq\": \"column\"}}, {\"table\": {\"$in\": tables}}]},\n",
    "        )\n",
    "        columns = [\n",
    "            (doc[\"table\"], doc[\"columns\"])\n",
    "            for doc in column_results.get(\"metadatas\", [])[0]\n",
    "        ]\n",
    "\n",
    "        relationship_results = db_collection.query(\n",
    "            query_texts=[user_query], n_results=3, where={\"type\": \"relationship\"}\n",
    "        )\n",
    "        relationships = [\n",
    "            (doc[\"table1\"], doc[\"table2\"], doc[\"relationship_type\"])\n",
    "            for doc in relationship_results.get(\"metadatas\", [])[0]\n",
    "        ]\n",
    "\n",
    "        # pprint({\"tables\": tables, \"columns\": columns, \"relationships\": relationships})\n",
    "        return {\"tables\": tables, \"columns\": columns, \"relationships\": relationships}\n"
   ]
  },
  {
   "cell_type": "code",
   "execution_count": 15,
   "metadata": {},
   "outputs": [],
   "source": [
    "class GenerateSQL(dspy.Signature):\n",
    "    \"\"\"Generate appropriate response to the user's question about the database.\n",
    "        Dont just give tabular data, instead give in a meaningful polite sentence format with proper result and not just [result]\n",
    "    For SELECT queries: Generate SQL and answer.\n",
    "    For other operations: Return standard warning message.\"\"\"\n",
    "    \n",
    "    question: str = dspy.InputField()\n",
    "    context: str = dspy.InputField()\n",
    "    history: list[str] = dspy.InputField(default=[])\n",
    "    sql_query: str = dspy.OutputField(desc=\"Empty if operation not allowed\")\n",
    "    answer: str = dspy.OutputField()\n",
    "\n",
    "sql_query_generator = dspy.ReAct(GenerateSQL, tools=[execute_sql])"
   ]
  },
  {
   "cell_type": "code",
   "execution_count": 16,
   "metadata": {},
   "outputs": [],
   "source": [
    "class SQLAgent(dspy.Module):\n",
    "    def __init__(self):\n",
    "        super().__init__()\n",
    "        self.retrieve = RetrieveSchema()\n",
    "        self.react = sql_query_generator\n",
    "        \n",
    "    def forward(self, question, context=None, history=None):\n",
    "        history = history or []\n",
    "        if context is None:\n",
    "            context = self.retrieve(question)\n",
    "            \n",
    "        response = self.react(question=question, context=context, history=history)\n",
    "        \n",
    "        # ReAct returns the full trace, we need to extract the final prediction\n",
    "        if hasattr(response, 'answer'):\n",
    "            return dspy.Prediction(\n",
    "                answer=response.answer,\n",
    "                sql_query=getattr(response, 'sql_query', '')\n",
    "            )\n",
    "        return dspy.Prediction(answer=\"Error: No valid response generated\", sql_query=\"\")"
   ]
  },
  {
   "cell_type": "code",
   "execution_count": 17,
   "metadata": {},
   "outputs": [],
   "source": [
    "def validate_prediction(example, pred, trace=None):\n",
    "    try:\n",
    "        # For non-SELECT operations\n",
    "        if not example.sql_query:\n",
    "            return pred.answer.startswith(\"Sorry, but you are not allowed\")\n",
    "        \n",
    "        # For SELECT queries\n",
    "        if not hasattr(pred, 'sql_query') or not pred.sql_query:\n",
    "            return False\n",
    "            \n",
    "        return (example.sql_query.lower().strip() == pred.sql_query.lower().strip() and \n",
    "                example.answer.lower() in pred.answer.lower())\n",
    "    except Exception as e:\n",
    "        print(f\"Validation error: {e}\")\n",
    "        return False"
   ]
  },
  {
   "cell_type": "code",
   "execution_count": 18,
   "metadata": {},
   "outputs": [],
   "source": [
    "optimizer = dspy.BootstrapFewShot(\n",
    "    metric=validate_prediction,\n",
    "    max_bootstrapped_demos=8,\n",
    "    max_labeled_demos=8,\n",
    "    teacher_settings=dict(lm=dspy.LM('groq/qwen-2.5-32b', api_key=os.getenv('GROQ_API_KEY')))\n",
    ")\n",
    "\n",
    "agent = SQLAgent()"
   ]
  },
  {
   "cell_type": "code",
   "execution_count": 19,
   "metadata": {},
   "outputs": [
    {
     "name": "stderr",
     "output_type": "stream",
     "text": [
      " 20%|██        | 1/5 [00:03<00:13,  3.25s/it]"
     ]
    },
    {
     "name": "stdout",
     "output_type": "stream",
     "text": [
      "2025-04-02 12:18:19,481 INFO sqlalchemy.engine.Engine BEGIN (implicit)\n",
      "2025-04-02 12:18:19,483 INFO sqlalchemy.engine.Engine SELECT product_id FROM products WHERE product_name = 'LED Light Bulb 10W';\n",
      "2025-04-02 12:18:19,485 INFO sqlalchemy.engine.Engine [generated in 0.00376s] ()\n",
      "2025-04-02 12:18:19,489 INFO sqlalchemy.engine.Engine ROLLBACK\n",
      "2025-04-02 12:18:20,909 INFO sqlalchemy.engine.Engine BEGIN (implicit)\n",
      "2025-04-02 12:18:20,914 INFO sqlalchemy.engine.Engine PRAGMA table_info(products);\n",
      "2025-04-02 12:18:20,916 INFO sqlalchemy.engine.Engine [generated in 0.00720s] ()\n",
      "2025-04-02 12:18:20,920 INFO sqlalchemy.engine.Engine ROLLBACK\n",
      "2025-04-02 12:18:22,379 INFO sqlalchemy.engine.Engine BEGIN (implicit)\n",
      "2025-04-02 12:18:22,380 INFO sqlalchemy.engine.Engine SELECT product_id FROM products WHERE name = 'LED Light Bulb 10W';\n",
      "2025-04-02 12:18:22,382 INFO sqlalchemy.engine.Engine [generated in 0.00328s] ()\n",
      "2025-04-02 12:18:22,385 INFO sqlalchemy.engine.Engine ROLLBACK\n"
     ]
    },
    {
     "name": "stderr",
     "output_type": "stream",
     "text": [
      " 80%|████████  | 4/5 [00:54<00:14, 14.36s/it]"
     ]
    },
    {
     "name": "stdout",
     "output_type": "stream",
     "text": [
      "2025-04-02 12:19:16,096 INFO sqlalchemy.engine.Engine BEGIN (implicit)\n",
      "2025-04-02 12:19:16,102 INFO sqlalchemy.engine.Engine DELETE FROM customers WHERE id NOT IN (SELECT customer_id FROM orders WHERE order_date >= DATE('now', '-6 months'));\n",
      "2025-04-02 12:19:16,105 INFO sqlalchemy.engine.Engine [generated in 0.00879s] ()\n",
      "2025-04-02 12:19:16,109 INFO sqlalchemy.engine.Engine ROLLBACK\n",
      "2025-04-02 12:19:23,973 INFO sqlalchemy.engine.Engine BEGIN (implicit)\n",
      "2025-04-02 12:19:23,975 INFO sqlalchemy.engine.Engine DELETE FROM customers WHERE customer_id NOT IN (SELECT customer_id FROM orders WHERE order_date >= DATE('now', '-6 months'));\n",
      "2025-04-02 12:19:23,976 INFO sqlalchemy.engine.Engine [generated in 0.00381s] ()\n",
      "2025-04-02 12:19:23,983 INFO sqlalchemy.engine.Engine ROLLBACK\n"
     ]
    },
    {
     "name": "stderr",
     "output_type": "stream",
     "text": [
      "100%|██████████| 5/5 [01:40<00:00, 20.09s/it]"
     ]
    },
    {
     "name": "stdout",
     "output_type": "stream",
     "text": [
      "Bootstrapped 0 full traces after 4 examples for up to 1 rounds, amounting to 5 attempts.\n"
     ]
    },
    {
     "name": "stderr",
     "output_type": "stream",
     "text": [
      "\n"
     ]
    }
   ],
   "source": [
    "# Optimize\n",
    "optimized_agent = optimizer.compile(\n",
    "    agent, \n",
    "    trainset=train_data\n",
    ")"
   ]
  },
  {
   "cell_type": "code",
   "execution_count": 23,
   "metadata": {},
   "outputs": [
    {
     "name": "stdout",
     "output_type": "stream",
     "text": [
      "2025-04-02 12:23:51,601 INFO sqlalchemy.engine.Engine BEGIN (implicit)\n",
      "2025-04-02 12:23:51,602 INFO sqlalchemy.engine.Engine SELECT product_id FROM products WHERE name = 'LED Light Bulb';\n",
      "2025-04-02 12:23:51,602 INFO sqlalchemy.engine.Engine [generated in 0.00388s] ()\n",
      "2025-04-02 12:23:51,602 INFO sqlalchemy.engine.Engine ROLLBACK\n",
      "2025-04-02 12:23:53,098 INFO sqlalchemy.engine.Engine BEGIN (implicit)\n",
      "2025-04-02 12:23:53,098 INFO sqlalchemy.engine.Engine SELECT product_id FROM products WHERE name = 'LED Light Bulb';\n",
      "2025-04-02 12:23:53,098 INFO sqlalchemy.engine.Engine [generated in 0.00392s] ()\n",
      "2025-04-02 12:23:53,098 INFO sqlalchemy.engine.Engine ROLLBACK\n",
      "2025-04-02 12:23:54,664 INFO sqlalchemy.engine.Engine BEGIN (implicit)\n",
      "2025-04-02 12:23:54,664 INFO sqlalchemy.engine.Engine INSERT INTO order_items (product_id, quantity) VALUES (1, 5);\n",
      "2025-04-02 12:23:54,664 INFO sqlalchemy.engine.Engine [generated in 0.00300s] ()\n",
      "2025-04-02 12:23:54,664 INFO sqlalchemy.engine.Engine ROLLBACK\n",
      "Prediction(\n",
      "    answer='Sorry, but you are not allowed to perform this operation.',\n",
      "    sql_query=\"SELECT product_id FROM products WHERE name = 'LED Light Bulb';\"\n",
      ")\n"
     ]
    }
   ],
   "source": [
    "response = optimized_agent(\"Purchase the LED Light Bulb for me of quantity 5 for me\")\n",
    "print(response)"
   ]
  },
  {
   "cell_type": "code",
   "execution_count": 12,
   "metadata": {},
   "outputs": [
    {
     "name": "stdout",
     "output_type": "stream",
     "text": [
      "2025-04-02 12:16:21,927 INFO sqlalchemy.engine.Engine BEGIN (implicit)\n",
      "2025-04-02 12:16:21,928 INFO sqlalchemy.engine.Engine SELECT COUNT(*) FROM products WHERE name = 'copper wire';\n",
      "2025-04-02 12:16:21,929 INFO sqlalchemy.engine.Engine [generated in 0.00273s] ()\n",
      "2025-04-02 12:16:21,932 INFO sqlalchemy.engine.Engine ROLLBACK\n"
     ]
    },
    {
     "data": {
      "text/plain": [
       "'There are no copper wires in the products table.'"
      ]
     },
     "execution_count": 12,
     "metadata": {},
     "output_type": "execute_result"
    }
   ],
   "source": [
    "only_agent = SQLAgent()\n",
    "resp = only_agent(\"how many copper wires are there!\")\n",
    "resp.answer"
   ]
  },
  {
   "cell_type": "code",
   "execution_count": null,
   "metadata": {},
   "outputs": [],
   "source": []
  }
 ],
 "metadata": {
  "kernelspec": {
   "display_name": "agentenv",
   "language": "python",
   "name": "python3"
  },
  "language_info": {
   "codemirror_mode": {
    "name": "ipython",
    "version": 3
   },
   "file_extension": ".py",
   "mimetype": "text/x-python",
   "name": "python",
   "nbconvert_exporter": "python",
   "pygments_lexer": "ipython3",
   "version": "3.12.9"
  }
 },
 "nbformat": 4,
 "nbformat_minor": 2
}
